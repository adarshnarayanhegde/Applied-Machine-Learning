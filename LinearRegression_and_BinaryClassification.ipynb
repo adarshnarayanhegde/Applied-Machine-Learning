{
 "cells": [
  {
   "cell_type": "markdown",
   "metadata": {
    "colab_type": "text",
    "id": "FJz8ZxU7opMy"
   },
   "source": [
    "# 1. Linear Regression\n",
    "\n",
    "\n",
    "\n",
    "### Implementatio of linear regression using gradient descent without using standard libraries."
   ]
  },
  {
   "cell_type": "code",
   "execution_count": 1,
   "metadata": {
    "colab": {},
    "colab_type": "code",
    "id": "dW1xPyXPoonO"
   },
   "outputs": [],
   "source": [
    "import numpy as np\n",
    "\n",
    "class linear_regression:\n",
    "  def __init__(self, learning_rate, iterations, \n",
    "               fit_intercept=True, normalize=False, coef=None):\n",
    "        self.fit_intercept = fit_intercept\n",
    "        self.normalize = normalize\n",
    "        self.learning_rate = learning_rate\n",
    "        self.iterations = iterations\n",
    "        self.coef = coef\n",
    "  \n",
    "  def fit(self, X, y):\n",
    "    alpha=self.learning_rate\n",
    "    con=alpha/len(X);\n",
    "    X = np.asmatrix(X,dtype=np.float64)\n",
    "    X=np.c_[np.ones((len(X),1)),X]\n",
    "    X=np.matrix.transpose(X)\n",
    "    y=np.asmatrix(y,dtype=np.float64)\n",
    "    self.coef=np.asmatrix(np.zeros((len(X),1)))\n",
    "    \n",
    "    for i in range(self.iterations):\n",
    "        hyp=np.matmul(np.matrix.transpose(self.coef),X)\n",
    "        diff=np.subtract(hyp,y)\n",
    "        for j in range(len(self.coef)):\n",
    "            rhs=con*(np.matmul(diff,np.matrix.transpose(X[j])))\n",
    "            self.coef[j]=self.coef[j]-rhs\n",
    "    return self.coef\n",
    "  \n",
    "  def predict(self, X):\n",
    "    X = np.asmatrix(X,dtype=np.float64)\n",
    "    X=np.c_[np.ones((len(X),1)),X]\n",
    "    X=np.matrix.transpose(X)\n",
    "    result=np.matmul(np.matrix.transpose(self.coef),X)\n",
    "    return result"
   ]
  },
  {
   "cell_type": "markdown",
   "metadata": {
    "colab_type": "text",
    "id": "Man3c1JrhVbr"
   },
   "source": [
    "### Testing the above model implementation on Boston Housing dataset."
   ]
  },
  {
   "cell_type": "code",
   "execution_count": 2,
   "metadata": {
    "colab": {},
    "colab_type": "code",
    "id": "VEFBL6WwhXUz"
   },
   "outputs": [
    {
     "name": "stdout",
     "output_type": "stream",
     "text": [
      "Model Coefficients:\n",
      " [[ 0.01590179]\n",
      " [-0.0969128 ]\n",
      " [ 0.13227931]\n",
      " [-0.06516902]\n",
      " [ 0.00861526]\n",
      " [ 0.00567762]\n",
      " [ 0.1805582 ]\n",
      " [ 0.07837914]\n",
      " [ 0.03264386]\n",
      " [-0.00356592]\n",
      " [ 0.00395002]\n",
      " [ 0.15291779]\n",
      " [ 0.04250114]\n",
      " [-0.38416193]]\n",
      "Predicted Values: [[20.1168372  17.86952194 16.79836295 32.26348403 20.24595036 21.75974391\n",
      "  26.6308187   3.93975864 24.4510079  22.45932831 22.22856026 27.87648025\n",
      "  25.92775319 20.31377725 26.86095304 36.31924217 25.77520065 21.27963615\n",
      "   8.38246971 25.08701176 33.49301218 20.63835405 30.96163361 22.75023022\n",
      "  23.54486685 24.5744623  20.80308303 18.66142327 23.41812281 28.67967192\n",
      "  25.28447237 21.78935778 28.09909929 24.91699908 21.22971588 30.20945152\n",
      "   8.08410432 33.91527245 26.53598527 24.53987897  2.83427372  7.84508797\n",
      "  23.61391954 25.87904035  6.90706256 14.83109096 25.68321123 22.71562111\n",
      "   5.6085147  20.06902542 32.19342657 11.76975681 23.02883744 23.05910643\n",
      "  25.32807248 21.1077416  28.78932286 27.1947132  28.18369979 19.97283548\n",
      "  23.32077393 12.21286291 24.44979849 21.57983843 20.90262001 23.63933737\n",
      "  21.22476128 24.80920927  7.99639941  7.80327436 23.54199431 24.41341614\n",
      "  23.86384605 23.8303224  20.28674035 19.36011393 -0.90206181 22.68338036\n",
      "  24.30811478 14.74869429 23.03334613 14.33613133 28.10774802 12.0593799\n",
      "  22.74431551 25.2472623  15.67114277 21.19788697 19.44650973 23.17598095\n",
      "  23.95179801 23.78478871 16.84068388 33.34617302 19.08208217 27.48574077\n",
      "  21.24922347 19.74547189 19.89035481 18.05066729 21.21151215 22.15434724\n",
      "  16.28223516 20.69770391 23.35907457 21.42560799 24.15312363 32.96093433\n",
      "  26.49262425 23.43575466 25.09599855 21.94697941 21.28196238 25.85882785\n",
      "  24.73633798 15.58963947 27.04814493 20.50162106 32.27212715 26.23241789\n",
      "  21.54036653 29.85759306 29.50286768 31.40268035 23.95499908 22.911796\n",
      "  28.32238643 26.7799003  27.02070096 19.9543542  21.29863524 22.41712839\n",
      "  21.59652124 29.06809496 22.73798818 22.06836566 22.24792189 25.65064983\n",
      "  21.9574878  34.52033214 21.7091014  22.31089125 22.35014464 28.02002473\n",
      "  26.46907771 28.38782086 18.23029717 22.10996358 19.85832973 13.58574627\n",
      "  25.67665831 21.95479801]]\n"
     ]
    }
   ],
   "source": [
    "from sklearn.datasets import load_boston\n",
    "from sklearn.model_selection import train_test_split\n",
    "import numpy as np\n",
    "import pandas as pd\n",
    "%matplotlib inline\n",
    "import matplotlib.pyplot as plt\n",
    "\n",
    "obj=linear_regression(0.000005,5500)\n",
    "df=pd.DataFrame()\n",
    "df=load_boston()\n",
    "X=np.array(df['data'])\n",
    "y=np.array(df['target'])\n",
    "XTrain,XTest,yTrain,yTest=train_test_split(X,y,train_size=0.7)\n",
    "coeff=obj.fit(XTrain,yTrain)\n",
    "res=obj.predict(XTest)\n",
    "print(\"Model Coefficients:\\n\",coeff)\n",
    "print(\"Predicted Values:\",res)\n"
   ]
  },
  {
   "cell_type": "markdown",
   "metadata": {
    "colab_type": "text",
    "id": "9FXqtD_KhZwV"
   },
   "source": [
    "### Identifying the variable or set of variables that will minimize the mean square error (MSE)."
   ]
  },
  {
   "cell_type": "code",
   "execution_count": 3,
   "metadata": {
    "colab": {},
    "colab_type": "code",
    "id": "sFlcvY_piKus",
    "scrolled": false
   },
   "outputs": [
    {
     "name": "stdout",
     "output_type": "stream",
     "text": [
      "Actual mean squared error: 56.899789044643605\n",
      "Minimized mean squared error: 30.37808687006857\n",
      "Variables:3,5,12\n"
     ]
    }
   ],
   "source": [
    "from sklearn.metrics import mean_squared_error\n",
    "import numpy as np\n",
    "import pandas as pd\n",
    "\n",
    "df=pd.DataFrame()\n",
    "df=load_boston()\n",
    "X=np.array(df['data'])\n",
    "y=np.array(df['target'])\n",
    "XTrain,XTest,yTrain,yTest=train_test_split(X,y,train_size=0.7)\n",
    "obj=linear_regression(0.000005,5500)\n",
    "obj.fit(XTrain,yTrain)\n",
    "res_a=obj.predict(XTest)\n",
    "obj=linear_regression(0.002,5500)\n",
    "XTrain=XTrain[:,[3,5,12]]\n",
    "XTest=XTest[:,[3,5,12]]\n",
    "obj.fit(XTrain,yTrain)\n",
    "res_m=obj.predict(XTest)\n",
    "\n",
    "yTest=np.asmatrix(yTest)\n",
    "\n",
    "mse_a=mean_squared_error(yTest,res_a)\n",
    "mse_m=mean_squared_error(yTest,res_m)\n",
    "print(\"Actual mean squared error:\",mse_a)\n",
    "print(\"Minimized mean squared error:\",mse_m)\n",
    "print(\"Variables:3,5,12\")\n"
   ]
  },
  {
   "cell_type": "markdown",
   "metadata": {
    "colab_type": "text",
    "id": "RJSot41BkMrB"
   },
   "source": [
    "#  2. Binary Classification\n",
    "\n",
    "### Problem 1:\n",
    "\n",
    "Consider the binary classification problem of mapping a given input to two classes. Let $\\mathcal{X}=\\mathbb{R}^d$ and $\\mathcal{Y}=\\{+1, -1\\}$ be the input space and output space, respectively. In simple words, it means that the input has $d$ features and all of them are real valued, whereas the output can only take values $-1$ or $+1$. This is one of the most common problems in machine learning and many sophisticated methods exist to solve it. In the question, we will solve it using the concepts we have already learned in class. Let us assume the two sets of points can be separated using a straight line i.e. the samples are linearly separable. So if $d=2$, one should be able to draw a line to distinguish between the two classes. All points lying on side of the line should belong to a particular class (say $1$) and the points lying on the other side should belong to another class (say $2$). To see what this would look like,  your first task is as follows:\n",
    "\n",
    "Write a function that will randomly generate a dataset for this problem. Your function should randomly choose a line $l$, which can be denoted as $ax + by + c = 0$. According to basic high school geometry, the line divides the plane into two sides. On one side, $ax+by+c>0$ while on the other $ax+by+c<0$. Use this fact to randomly generate $k_0$ points on the side of class 0 (i.e. $y=-1$) and $k_1$ points on the side of class 1 (i.e. $y=1$). Create a plot of this dataset where all the points corresponding to one class are blue and those of the other class are green, the line dividing both classes should be red. Axes should be labeled.\n",
    "\n",
    "**Note**: Do not confuse the $x$ and $y$ in the equation of line $ax + by + c = 0$ with $\\mathcal{X} $ and $\\mathcal{Y}$. Instead imagine these $x$ and $y$ as the 2-D coordinate system on which you have different points which should lie on 2 sides of the line $ax + by + c = 0$. For example, there is a point (2,3) in the 2-D system where $x = 2$ and $y = 3$."
   ]
  },
  {
   "cell_type": "code",
   "execution_count": 4,
   "metadata": {
    "colab": {},
    "colab_type": "code",
    "id": "g96jFpGyMIFu"
   },
   "outputs": [
    {
     "data": {
      "image/png": "[encoded data removed]",
      "text/plain": [
       "<Figure size 432x288 with 1 Axes>"
      ]
     },
     "metadata": {
      "needs_background": "light"
     },
     "output_type": "display_data"
    }
   ],
   "source": [
    "import numpy as np\n",
    "import random\n",
    "%matplotlib inline\n",
    "import matplotlib.pyplot as plt\n",
    "\n",
    "def generate_dataset(k0, k1):\n",
    "    f1=0\n",
    "    f2=0\n",
    "    sz=(k0+k1)*2\n",
    "    store=np.random.uniform(-1.5,1.5,(sz,2))\n",
    "    x = np.linspace(-1.7,1.7,50)\n",
    "    y= (9*x-1)/9\n",
    "    p=[]\n",
    "    Y=[]\n",
    "\n",
    "    for i in range(len(store)):\n",
    "            if f1<k0:\n",
    "                if (9*store[i,0]-1)/9 < store[i,1]:\n",
    "                    plt.scatter(store[i,0],store[i,1],c='b')\n",
    "                    p.append([store[i,0],store[i,1]])\n",
    "                    Y.append(-1)\n",
    "                    f1+=1\n",
    "            if f2<k1:\n",
    "                if (9*store[i,0]-1)/9 > store[i,1]:\n",
    "                    plt.scatter(store[i,0],store[i,1],c='g')\n",
    "                    p.append([store[i,0],store[i,1]])\n",
    "                    Y.append(1)\n",
    "                    f2+=1\n",
    "\n",
    "    plt.plot(x, y, '-r')\n",
    "    Y=np.asarray(Y).transpose().reshape(len(Y),1)\n",
    "    X=np.asarray(p)\n",
    "    \n",
    "    return X,Y\n",
    "\n",
    "X,Y=generate_dataset(50,50)\n",
    "plt.show()"
   ]
  },
  {
   "cell_type": "markdown",
   "metadata": {
    "colab_type": "text",
    "id": "9mw15CFikXI1"
   },
   "source": [
    "### Problem 2\n",
    "\n",
    "If $\\mathcal{Y}$ is the variable you are trying to predict using a feature $\\mathcal{X}$ then in a typical Machine Learning problem, you are tasked with a target function $f$ which maps $\\mathcal{X}$ to $\\mathcal{Y}$ i.e. Find $f$ such that  $\\mathcal{Y}$  = $f(\\mathcal{X})$\n",
    "\n",
    "\n",
    "When you are given a dataset for which you do not have access the target function $f$, you have to learn it from the data. In this problem, we are going to learn the parameters of the line that separates the two classes for the dataset that we constructed in Problem 2.1. As we previously mentioned, that line can be represented as $ax + by + c = 0$.\n",
    "\n",
    "The goal here is to correctly find out the coefficients $a$, $b$, and $c$, represented below as $\\bf{w}$ which is a vector. The algorithm to find it is a simple iterative process: \n",
    "\n",
    "1. Randomly choose a $\\mathbf{w}$ to begin with.\n",
    "2. Keep on adjusting the value of $\\bf{w}$ as follows until all data samples are correctly classified:\n",
    "    1. Randomly choose a sample from the dataset without replacement and see if it is correctly classified. If yes,  move on to another sample.\n",
    "    2. If not,  then  update the weights as $\\mathbf{w}^{t+1} = \\mathbf{w}^t + y \\cdot \\mathbf{x}$\n",
    "    and go back to the previous step (of randomly chosing a sample)\n",
    "    \n",
    "        - $\\mathbf{w}^{t+1}$ is value of $\\mathbf{w}$ at iteration $t+1$\n",
    "        - $\\mathbf{w}^{t}$ is value of $\\mathbf{w}$ at iteration $t$\n",
    "        - $y$ is the class label for the sample under consideration\n",
    "        - $\\mathbf{x}$ is the data-point under consideration\n",
    "    \n",
    "    \n",
    "Write a function that implements this learning algorithm. The input to the function is going to be a dataset represented by the input variable $X$ and the target variable $y$. The output of the function should be the chosen $\\mathbf{w}$.\n",
    "\n"
   ]
  },
  {
   "cell_type": "code",
   "execution_count": 5,
   "metadata": {
    "colab": {},
    "colab_type": "code",
    "id": "SPk7AZaLkXSh",
    "scrolled": true
   },
   "outputs": [
    {
     "name": "stdout",
     "output_type": "stream",
     "text": [
      "X: (100, 2)\n",
      "Y: (100, 1)\n",
      "Final weight vector:\n",
      " [[ 12.75312837 -12.2748115   -2.        ]]\n"
     ]
    },
    {
     "data": {
      "image/png": "[encoded data removed]",
      "text/plain": [
       "<Figure size 432x288 with 1 Axes>"
      ]
     },
     "metadata": {
      "needs_background": "light"
     },
     "output_type": "display_data"
    }
   ],
   "source": [
    "def fit_line(X, y):\n",
    "    X=np.c_[X,np.ones((100,1))]\n",
    "    X=np.asmatrix(X)\n",
    "    w=np.asmatrix(np.ones((len(np.transpose(X)),1)))\n",
    "    selector=np.asarray(random.sample(range(0, 100), 100))\n",
    "    i=0\n",
    "\n",
    "    while i<len(selector):\n",
    "        row=selector[i]\n",
    "        ans=np.matmul(X[row],w)\n",
    "        if ans<0:\n",
    "            v=-1\n",
    "        else:\n",
    "            v=1\n",
    "        if (v == Y[row]):\n",
    "            i+=1\n",
    "        else:\n",
    "            z=Y[row].item()*(np.transpose(X[row]))\n",
    "            w=w+z\n",
    "            i=0\n",
    "    return w.transpose()\n",
    "    \n",
    "X,Y=generate_dataset(50,50)\n",
    "\n",
    "print(\"X:\",X.shape)\n",
    "print(\"Y:\",Y.shape)\n",
    "\n",
    "weight_vector=fit_line(X,Y)\n",
    "print(\"Final weight vector:\\n\",weight_vector)"
   ]
  }
 ],
 "metadata": {
  "colab": {
   "name": "A1-F19.ipynb",
   "provenance": [],
   "version": "0.3.2"
  },
  "kernelspec": {
   "display_name": "Python 3",
   "language": "python",
   "name": "python3"
  },
  "language_info": {
   "codemirror_mode": {
    "name": "ipython",
    "version": 3
   },
   "file_extension": ".py",
   "mimetype": "text/x-python",
   "name": "python",
   "nbconvert_exporter": "python",
   "pygments_lexer": "ipython3",
   "version": "3.7.4"
  }
 },
 "nbformat": 4,
 "nbformat_minor": 1
}
